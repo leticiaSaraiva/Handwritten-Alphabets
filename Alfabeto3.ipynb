{
 "cells": [
  {
   "cell_type": "markdown",
   "metadata": {
    "colab_type": "text",
    "id": "heeh4BHA0LQa"
   },
   "source": [
    "# Trabalho Final - Mineração de Dados\n"
   ]
  },
  {
   "cell_type": "markdown",
   "metadata": {
    "colab_type": "text",
    "id": "5o3ApCyr0NC_"
   },
   "source": [
    "## Letícia Saraiva Chaves, 402120"
   ]
  },
  {
   "cell_type": "code",
   "execution_count": 1,
   "metadata": {
    "colab": {},
    "colab_type": "code",
    "id": "Yb24odGMroXt"
   },
   "outputs": [],
   "source": [
    "import pandas as pd\n",
    "import numpy as np\n",
    "from sklearn.model_selection import train_test_split, StratifiedKFold\n",
    "import matplotlib.pyplot as plt\n",
    "from sklearn import metrics\n",
    "from sklearn.tree import DecisionTreeClassifier\n",
    "from sklearn import tree\n",
    "from sklearn.linear_model import LogisticRegression\n",
    "from sklearn.ensemble import RandomForestClassifier\n",
    "\n",
    "import warnings\n",
    "warnings.filterwarnings('ignore') "
   ]
  },
  {
   "cell_type": "code",
   "execution_count": 2,
   "metadata": {
    "colab": {},
    "colab_type": "code",
    "id": "KqwpeVU9r4IH"
   },
   "outputs": [],
   "source": [
    "df = pd.read_csv('A_Z Handwritten Data.csv')"
   ]
  },
  {
   "cell_type": "code",
   "execution_count": 3,
   "metadata": {
    "colab": {
     "base_uri": "https://8080-dot-9289482-dot-devshell.appspot.com/",
     "height": 253
    },
    "colab_type": "code",
    "id": "A21m38ZesFc6",
    "outputId": "5614c74d-baaf-4d3a-963a-324ec1a9978c"
   },
   "outputs": [
    {
     "data": {
      "text/html": [
       "<div>\n",
       "<style scoped>\n",
       "    .dataframe tbody tr th:only-of-type {\n",
       "        vertical-align: middle;\n",
       "    }\n",
       "\n",
       "    .dataframe tbody tr th {\n",
       "        vertical-align: top;\n",
       "    }\n",
       "\n",
       "    .dataframe thead th {\n",
       "        text-align: right;\n",
       "    }\n",
       "</style>\n",
       "<table border=\"1\" class=\"dataframe\">\n",
       "  <thead>\n",
       "    <tr style=\"text-align: right;\">\n",
       "      <th></th>\n",
       "      <th>0</th>\n",
       "      <th>0.1</th>\n",
       "      <th>0.2</th>\n",
       "      <th>0.3</th>\n",
       "      <th>0.4</th>\n",
       "      <th>0.5</th>\n",
       "      <th>0.6</th>\n",
       "      <th>0.7</th>\n",
       "      <th>0.8</th>\n",
       "      <th>0.9</th>\n",
       "      <th>...</th>\n",
       "      <th>0.639</th>\n",
       "      <th>0.640</th>\n",
       "      <th>0.641</th>\n",
       "      <th>0.642</th>\n",
       "      <th>0.643</th>\n",
       "      <th>0.644</th>\n",
       "      <th>0.645</th>\n",
       "      <th>0.646</th>\n",
       "      <th>0.647</th>\n",
       "      <th>0.648</th>\n",
       "    </tr>\n",
       "  </thead>\n",
       "  <tbody>\n",
       "    <tr>\n",
       "      <th>0</th>\n",
       "      <td>0</td>\n",
       "      <td>0</td>\n",
       "      <td>0</td>\n",
       "      <td>0</td>\n",
       "      <td>0</td>\n",
       "      <td>0</td>\n",
       "      <td>0</td>\n",
       "      <td>0</td>\n",
       "      <td>0</td>\n",
       "      <td>0</td>\n",
       "      <td>...</td>\n",
       "      <td>0</td>\n",
       "      <td>0</td>\n",
       "      <td>0</td>\n",
       "      <td>0</td>\n",
       "      <td>0</td>\n",
       "      <td>0</td>\n",
       "      <td>0</td>\n",
       "      <td>0</td>\n",
       "      <td>0</td>\n",
       "      <td>0</td>\n",
       "    </tr>\n",
       "    <tr>\n",
       "      <th>1</th>\n",
       "      <td>0</td>\n",
       "      <td>0</td>\n",
       "      <td>0</td>\n",
       "      <td>0</td>\n",
       "      <td>0</td>\n",
       "      <td>0</td>\n",
       "      <td>0</td>\n",
       "      <td>0</td>\n",
       "      <td>0</td>\n",
       "      <td>0</td>\n",
       "      <td>...</td>\n",
       "      <td>0</td>\n",
       "      <td>0</td>\n",
       "      <td>0</td>\n",
       "      <td>0</td>\n",
       "      <td>0</td>\n",
       "      <td>0</td>\n",
       "      <td>0</td>\n",
       "      <td>0</td>\n",
       "      <td>0</td>\n",
       "      <td>0</td>\n",
       "    </tr>\n",
       "    <tr>\n",
       "      <th>2</th>\n",
       "      <td>0</td>\n",
       "      <td>0</td>\n",
       "      <td>0</td>\n",
       "      <td>0</td>\n",
       "      <td>0</td>\n",
       "      <td>0</td>\n",
       "      <td>0</td>\n",
       "      <td>0</td>\n",
       "      <td>0</td>\n",
       "      <td>0</td>\n",
       "      <td>...</td>\n",
       "      <td>0</td>\n",
       "      <td>0</td>\n",
       "      <td>0</td>\n",
       "      <td>0</td>\n",
       "      <td>0</td>\n",
       "      <td>0</td>\n",
       "      <td>0</td>\n",
       "      <td>0</td>\n",
       "      <td>0</td>\n",
       "      <td>0</td>\n",
       "    </tr>\n",
       "    <tr>\n",
       "      <th>3</th>\n",
       "      <td>0</td>\n",
       "      <td>0</td>\n",
       "      <td>0</td>\n",
       "      <td>0</td>\n",
       "      <td>0</td>\n",
       "      <td>0</td>\n",
       "      <td>0</td>\n",
       "      <td>0</td>\n",
       "      <td>0</td>\n",
       "      <td>0</td>\n",
       "      <td>...</td>\n",
       "      <td>0</td>\n",
       "      <td>0</td>\n",
       "      <td>0</td>\n",
       "      <td>0</td>\n",
       "      <td>0</td>\n",
       "      <td>0</td>\n",
       "      <td>0</td>\n",
       "      <td>0</td>\n",
       "      <td>0</td>\n",
       "      <td>0</td>\n",
       "    </tr>\n",
       "    <tr>\n",
       "      <th>4</th>\n",
       "      <td>0</td>\n",
       "      <td>0</td>\n",
       "      <td>0</td>\n",
       "      <td>0</td>\n",
       "      <td>0</td>\n",
       "      <td>0</td>\n",
       "      <td>0</td>\n",
       "      <td>0</td>\n",
       "      <td>0</td>\n",
       "      <td>0</td>\n",
       "      <td>...</td>\n",
       "      <td>0</td>\n",
       "      <td>0</td>\n",
       "      <td>0</td>\n",
       "      <td>0</td>\n",
       "      <td>0</td>\n",
       "      <td>0</td>\n",
       "      <td>0</td>\n",
       "      <td>0</td>\n",
       "      <td>0</td>\n",
       "      <td>0</td>\n",
       "    </tr>\n",
       "  </tbody>\n",
       "</table>\n",
       "<p>5 rows × 785 columns</p>\n",
       "</div>"
      ],
      "text/plain": [
       "   0  0.1  0.2  0.3  0.4  0.5  0.6  0.7  0.8  0.9  ...    0.639  0.640  0.641  \\\n",
       "0  0    0    0    0    0    0    0    0    0    0  ...        0      0      0   \n",
       "1  0    0    0    0    0    0    0    0    0    0  ...        0      0      0   \n",
       "2  0    0    0    0    0    0    0    0    0    0  ...        0      0      0   \n",
       "3  0    0    0    0    0    0    0    0    0    0  ...        0      0      0   \n",
       "4  0    0    0    0    0    0    0    0    0    0  ...        0      0      0   \n",
       "\n",
       "   0.642  0.643  0.644  0.645  0.646  0.647  0.648  \n",
       "0      0      0      0      0      0      0      0  \n",
       "1      0      0      0      0      0      0      0  \n",
       "2      0      0      0      0      0      0      0  \n",
       "3      0      0      0      0      0      0      0  \n",
       "4      0      0      0      0      0      0      0  \n",
       "\n",
       "[5 rows x 785 columns]"
      ]
     },
     "execution_count": 3,
     "metadata": {},
     "output_type": "execute_result"
    }
   ],
   "source": [
    "df.head()"
   ]
  },
  {
   "cell_type": "code",
   "execution_count": 4,
   "metadata": {
    "colab": {
     "base_uri": "https://8080-dot-9289482-dot-devshell.appspot.com/",
     "height": 34
    },
    "colab_type": "code",
    "id": "GuHqji051wvP",
    "outputId": "a00b5470-d3ca-4067-9cd0-86caf99a1b16"
   },
   "outputs": [
    {
     "data": {
      "text/plain": [
       "(372450, 785)"
      ]
     },
     "execution_count": 4,
     "metadata": {},
     "output_type": "execute_result"
    }
   ],
   "source": [
    "df.shape"
   ]
  },
  {
   "cell_type": "code",
   "execution_count": 5,
   "metadata": {
    "colab": {},
    "colab_type": "code",
    "id": "L0bj18PK3uMX"
   },
   "outputs": [],
   "source": [
    "X = df.iloc[:,1:]\n",
    "y = df.iloc[:,0]"
   ]
  },
  {
   "cell_type": "code",
   "execution_count": 6,
   "metadata": {
    "colab": {
     "base_uri": "https://8080-dot-9289482-dot-devshell.appspot.com/",
     "height": 51
    },
    "colab_type": "code",
    "id": "k-tSAGkp3Uax",
    "outputId": "55da89bb-e72f-49e1-ac14-f49c85e4aea6"
   },
   "outputs": [
    {
     "data": {
      "text/plain": [
       "array([ 0,  1,  2,  3,  4,  5,  6,  7,  8,  9, 10, 11, 12, 13, 14, 15, 16,\n",
       "       17, 18, 19, 20, 21, 22, 23, 24, 25])"
      ]
     },
     "execution_count": 6,
     "metadata": {},
     "output_type": "execute_result"
    }
   ],
   "source": [
    "np.unique(y)"
   ]
  },
  {
   "cell_type": "code",
   "execution_count": 7,
   "metadata": {
    "colab": {
     "base_uri": "https://8080-dot-9289482-dot-devshell.appspot.com/",
     "height": 34
    },
    "colab_type": "code",
    "id": "YIeBcSz2HOA6",
    "outputId": "3aeac671-bd05-4985-96c6-e593ac0354d5"
   },
   "outputs": [
    {
     "data": {
      "text/plain": [
       "(372450, 784)"
      ]
     },
     "execution_count": 7,
     "metadata": {},
     "output_type": "execute_result"
    }
   ],
   "source": [
    "X.shape"
   ]
  },
  {
   "cell_type": "code",
   "execution_count": 8,
   "metadata": {},
   "outputs": [],
   "source": [
    "y = y.values.reshape(-1,1)"
   ]
  },
  {
   "cell_type": "code",
   "execution_count": 9,
   "metadata": {
    "colab": {
     "base_uri": "https://8080-dot-9289482-dot-devshell.appspot.com/",
     "height": 34
    },
    "colab_type": "code",
    "id": "2F6L6tlXGl0R",
    "outputId": "24fc96eb-ae0f-444e-bbcf-cc095eca4f4d"
   },
   "outputs": [
    {
     "data": {
      "text/plain": [
       "(372450, 1)"
      ]
     },
     "execution_count": 9,
     "metadata": {},
     "output_type": "execute_result"
    }
   ],
   "source": [
    "y.shape"
   ]
  },
  {
   "cell_type": "code",
   "execution_count": null,
   "metadata": {
    "colab": {},
    "colab_type": "code",
    "id": "mlZkg8zhGU-4"
   },
   "outputs": [],
   "source": []
  },
  {
   "cell_type": "markdown",
   "metadata": {},
   "source": [
    "### Separando os dados em treino, validação e teste."
   ]
  },
  {
   "cell_type": "code",
   "execution_count": 10,
   "metadata": {
    "colab": {},
    "colab_type": "code",
    "id": "0oA5mapo382P"
   },
   "outputs": [],
   "source": [
    "X_train, X_test, y_train, y_test = train_test_split(X, y, stratify=y, test_size=0.3, random_state=42)"
   ]
  },
  {
   "cell_type": "code",
   "execution_count": 11,
   "metadata": {},
   "outputs": [],
   "source": [
    "X_train, X_val, y_train, y_val = train_test_split(X_train, y_train, stratify=y_train, test_size=0.25, random_state=84)"
   ]
  },
  {
   "cell_type": "code",
   "execution_count": 12,
   "metadata": {
    "colab": {
     "base_uri": "https://8080-dot-9289482-dot-devshell.appspot.com/",
     "height": 85
    },
    "colab_type": "code",
    "id": "A4-vVdDmumMg",
    "outputId": "980915cc-acfa-4272-da1a-bd6bd198cd8f"
   },
   "outputs": [
    {
     "name": "stdout",
     "output_type": "stream",
     "text": [
      "Treino:  (195536, 784)\n",
      "Labels:  (195536, 1)\n",
      "Teste:  (111735, 784)\n",
      "Labels:  (111735, 1)\n",
      "Validação:  (65179, 784)\n",
      "Labels:  (65179, 1)\n"
     ]
    }
   ],
   "source": [
    "print(\"Treino: \", X_train.shape)\n",
    "print(\"Labels: \", y_train.shape)\n",
    "\n",
    "print(\"Teste: \",X_test.shape)\n",
    "print(\"Labels: \", y_test.shape)\n",
    "\n",
    "print(\"Validação: \",X_val.shape)\n",
    "print(\"Labels: \", y_val.shape)"
   ]
  },
  {
   "cell_type": "code",
   "execution_count": null,
   "metadata": {
    "colab": {},
    "colab_type": "code",
    "id": "-zMhsCeZ6BBx"
   },
   "outputs": [],
   "source": []
  },
  {
   "cell_type": "markdown",
   "metadata": {},
   "source": [
    "### Plotagem de gráfico e exemplo de imagem do dataset"
   ]
  },
  {
   "cell_type": "code",
   "execution_count": 14,
   "metadata": {},
   "outputs": [
    {
     "name": "stdout",
     "output_type": "stream",
     "text": [
      "[ 0  1  2  3  4  5  6  7  8  9 10 11 12 13 14 15 16 17 18 19 20 21 22 23\n",
      " 24 25] [ 7281  4551 12289  5320  6006   611  3025  3790   588  4459  2942  6082\n",
      "  6476  9980 30358 10154  3051  6072 25420 11810 15229  2196  5662  3293\n",
      "  5701  3190]\n"
     ]
    },
    {
     "data": {
      "image/png": "[encoded data removed]",
      "text/plain": [
       "<matplotlib.figure.Figure at 0x7fc00655c860>"
      ]
     },
     "metadata": {},
     "output_type": "display_data"
    }
   ],
   "source": [
    "#Plotando a quantidade de imagens para cada label nos dados de treino\n",
    "names, qtds = np.unique(y_train,return_counts=True)\n",
    "print(names, qtds)\n",
    "plt.bar(names, qtds, color='b')\n",
    "plt.show();"
   ]
  },
  {
   "cell_type": "code",
   "execution_count": 15,
   "metadata": {},
   "outputs": [
    {
     "data": {
      "image/png": "[encoded data removed]",
      "text/plain": [
       "<matplotlib.figure.Figure at 0x7fc00655cf98>"
      ]
     },
     "metadata": {},
     "output_type": "display_data"
    },
    {
     "data": {
      "image/png": "[encoded data removed]",
      "text/plain": [
       "<matplotlib.figure.Figure at 0x7fc006115c88>"
      ]
     },
     "metadata": {},
     "output_type": "display_data"
    }
   ],
   "source": [
    "# Imprimindo dois objetos do dataset\n",
    "plt.imshow(X_train.values[200][0:].reshape(28,28), cmap='gray', interpolation='none')\n",
    "plt.show()\n",
    "\n",
    "plt.imshow(X_train.values[6239][0:].reshape(28,28), cmap='gray', interpolation='none')\n",
    "plt.show()"
   ]
  },
  {
   "cell_type": "markdown",
   "metadata": {},
   "source": [
    "### Treinamento com alguns modelos e métricas de classificação"
   ]
  },
  {
   "cell_type": "code",
   "execution_count": 26,
   "metadata": {},
   "outputs": [
    {
     "name": "stdout",
     "output_type": "stream",
     "text": [
      "k = 1 , accuracy = 0.2540235351877138\n",
      "k = 2 , accuracy = 0.3130609552156369\n",
      "k = 3 , accuracy = 0.387133892818239\n",
      "k = 4 , accuracy = 0.4697525276546127\n",
      "k = 5 , accuracy = 0.5373509872811795\n",
      "k = 6 , accuracy = 0.5912640574418141\n",
      "k = 7 , accuracy = 0.64938093557741\n",
      "k = 8 , accuracy = 0.7033860599272772\n",
      "k = 9 , accuracy = 0.7507325979226438\n",
      "k = 10 , accuracy = 0.7882600223998527\n",
      "k = 11 , accuracy = 0.8176253087650931\n",
      "k = 12 , accuracy = 0.8431856886420472\n",
      "k = 13 , accuracy = 0.8614124181101275\n",
      "k = 14 , accuracy = 0.8750057533868271\n",
      "k = 15 , accuracy = 0.8876018349468388\n",
      "k = 16 , accuracy = 0.8947667193421194\n",
      "k = 17 , accuracy = 0.89838751745194\n",
      "k = 18 , accuracy = 0.9033737860353795\n",
      "k = 19 , accuracy = 0.9062888353610825\n"
     ]
    }
   ],
   "source": [
    "#Decision Tree Classifier\n",
    "#Escolhendo a melhor profundidade    \n",
    "for k in range(1,20):\n",
    "    dt = DecisionTreeClassifier(criterion='gini', max_depth=k, random_state=42)\n",
    "    dt.fit(X_train,y_train)\n",
    "    y_ = dt.predict(X_val)\n",
    "    print('k =', k, ', accuracy =', metrics.accuracy_score(y_val, y_))"
   ]
  },
  {
   "cell_type": "code",
   "execution_count": 27,
   "metadata": {},
   "outputs": [],
   "source": [
    "#Treinando o classificador\n",
    "dt = DecisionTreeClassifier(criterion='gini', max_depth=19, random_state=42)\n",
    "dt.fit(X_train, y_train)\n",
    "y_ = dt.predict(X_test)"
   ]
  },
  {
   "cell_type": "code",
   "execution_count": 16,
   "metadata": {},
   "outputs": [],
   "source": [
    "label = list(range(0,26))"
   ]
  },
  {
   "cell_type": "markdown",
   "metadata": {},
   "source": [
    "### Três métricas de desempenho:\n",
    "\n",
    "    - Accuracy: Quantas letras rotulamos corretamente de todas as letras?\n",
    "    \n",
    "    - Precision: Quantos daqueles que rotulamos como uma letra são realmente aquela letra?\n",
    "    \n",
    "    - Recall: De todas as letras, quantas predizemos corretamente?"
   ]
  },
  {
   "cell_type": "code",
   "execution_count": 29,
   "metadata": {},
   "outputs": [
    {
     "name": "stdout",
     "output_type": "stream",
     "text": [
      "Acurácia com DecisionTreeClassifier:  0.9070389761489238\n",
      "Precisão com DecisionTreeClassifier:  [0.86478063 0.80994036 0.93063255 0.84120465 0.85375036 0.86643836\n",
      " 0.80589255 0.80425729 0.85761589 0.85506677 0.80932203 0.91669036\n",
      " 0.91125107 0.88572403 0.95156889 0.92777683 0.78995157 0.84432181\n",
      " 0.95659949 0.94904832 0.92985652 0.91626409 0.89938531 0.8552492\n",
      " 0.87256637 0.87834821]\n",
      "Recall com DecisionTreeClassifier:  [0.86685893 0.78346154 0.9322227  0.80855263 0.85897436 0.72492837\n",
      " 0.80682475 0.80277136 0.77083333 0.8543956  0.7953599  0.92750288\n",
      " 0.86003783 0.91057338 0.96500836 0.93433299 0.74827982 0.83775216\n",
      " 0.9574556  0.96058091 0.93840496 0.90749601 0.85935085 0.85706695\n",
      " 0.90791897 0.86341196]\n"
     ]
    }
   ],
   "source": [
    "acuracia = metrics.accuracy_score(y_test, y_)\n",
    "precisao = metrics.precision_score(y_test, y_, labels=label, average=None)\n",
    "recall = metrics.recall_score(y_test, y_, labels=label, average=None)\n",
    "\n",
    "print(\"Acurácia com DecisionTreeClassifier: \", acuracia)\n",
    "print(\"Precisão com DecisionTreeClassifier: \", precisao)\n",
    "print(\"Recall com DecisionTreeClassifier: \", recall)"
   ]
  },
  {
   "cell_type": "code",
   "execution_count": 30,
   "metadata": {},
   "outputs": [
    {
     "name": "stdout",
     "output_type": "stream",
     "text": [
      "             precision    recall  f1-score   support\n",
      "\n",
      "          0       0.86      0.87      0.87      4161\n",
      "          1       0.81      0.78      0.80      2600\n",
      "          2       0.93      0.93      0.93      7023\n",
      "          3       0.84      0.81      0.82      3040\n",
      "          4       0.85      0.86      0.86      3432\n",
      "          5       0.87      0.72      0.79       349\n",
      "          6       0.81      0.81      0.81      1729\n",
      "          7       0.80      0.80      0.80      2165\n",
      "          8       0.86      0.77      0.81       336\n",
      "          9       0.86      0.85      0.85      2548\n",
      "         10       0.81      0.80      0.80      1681\n",
      "         11       0.92      0.93      0.92      3476\n",
      "         12       0.91      0.86      0.88      3701\n",
      "         13       0.89      0.91      0.90      5703\n",
      "         14       0.95      0.97      0.96     17347\n",
      "         15       0.93      0.93      0.93      5802\n",
      "         16       0.79      0.75      0.77      1744\n",
      "         17       0.84      0.84      0.84      3470\n",
      "         18       0.96      0.96      0.96     14526\n",
      "         19       0.95      0.96      0.95      6748\n",
      "         20       0.93      0.94      0.93      8702\n",
      "         21       0.92      0.91      0.91      1254\n",
      "         22       0.90      0.86      0.88      3235\n",
      "         23       0.86      0.86      0.86      1882\n",
      "         24       0.87      0.91      0.89      3258\n",
      "         25       0.88      0.86      0.87      1823\n",
      "\n",
      "avg / total       0.91      0.91      0.91    111735\n",
      "\n"
     ]
    }
   ],
   "source": [
    "print(metrics.classification_report(y_test, y_, labels=label))"
   ]
  },
  {
   "cell_type": "code",
   "execution_count": 44,
   "metadata": {},
   "outputs": [],
   "source": [
    "#Logistic Regression\n",
    "clf = LogisticRegression(solver='lbfgs', multi_class='multinomial', random_state=42)\n",
    "clf.fit(X_train, y_train)\n",
    "\n",
    "y_p = clf.predict(X_test)"
   ]
  },
  {
   "cell_type": "code",
   "execution_count": 45,
   "metadata": {},
   "outputs": [
    {
     "name": "stdout",
     "output_type": "stream",
     "text": [
      "Acurácia com LogisticRegression:  0.8771557703494877\n",
      "Precisão com LogisticRegression:  [0.83815166 0.86179541 0.90770338 0.8367274  0.82913669 0.84117647\n",
      " 0.83912484 0.76263108 0.90508475 0.77464789 0.7622093  0.91571627\n",
      " 0.87340426 0.81200632 0.92317873 0.90442177 0.84793814 0.78979771\n",
      " 0.92963826 0.92563802 0.87048091 0.87114198 0.81710442 0.83067941\n",
      " 0.8263528  0.88753623]\n",
      "Recall com LogisticRegression:  [0.85003605 0.79384615 0.8976221  0.77039474 0.80594406 0.81948424\n",
      " 0.75419318 0.73903002 0.79464286 0.73390895 0.77989292 0.94706559\n",
      " 0.88732775 0.81115203 0.96500836 0.91658049 0.75458716 0.77636888\n",
      " 0.93411813 0.93524007 0.88818662 0.90031898 0.7885626  0.83156217\n",
      " 0.82965009 0.83982447]\n"
     ]
    }
   ],
   "source": [
    "acuracia = metrics.accuracy_score(y_test, y_p)\n",
    "precis = metrics.precision_score(y_test, y_p, labels=label, average=None)\n",
    "recal = metrics.recall_score(y_test, y_p, labels=label, average=None)\n",
    "\n",
    "print(\"Acurácia com LogisticRegression: \", acuracia)\n",
    "print(\"Precisão com LogisticRegression: \", precis)\n",
    "print(\"Recall com LogisticRegression: \", recal)"
   ]
  },
  {
   "cell_type": "code",
   "execution_count": 46,
   "metadata": {},
   "outputs": [
    {
     "name": "stdout",
     "output_type": "stream",
     "text": [
      "             precision    recall  f1-score   support\n",
      "\n",
      "          0       0.84      0.85      0.84      4161\n",
      "          1       0.86      0.79      0.83      2600\n",
      "          2       0.91      0.90      0.90      7023\n",
      "          3       0.84      0.77      0.80      3040\n",
      "          4       0.83      0.81      0.82      3432\n",
      "          5       0.84      0.82      0.83       349\n",
      "          6       0.84      0.75      0.79      1729\n",
      "          7       0.76      0.74      0.75      2165\n",
      "          8       0.91      0.79      0.85       336\n",
      "          9       0.77      0.73      0.75      2548\n",
      "         10       0.76      0.78      0.77      1681\n",
      "         11       0.92      0.95      0.93      3476\n",
      "         12       0.87      0.89      0.88      3701\n",
      "         13       0.81      0.81      0.81      5703\n",
      "         14       0.92      0.97      0.94     17347\n",
      "         15       0.90      0.92      0.91      5802\n",
      "         16       0.85      0.75      0.80      1744\n",
      "         17       0.79      0.78      0.78      3470\n",
      "         18       0.93      0.93      0.93     14526\n",
      "         19       0.93      0.94      0.93      6748\n",
      "         20       0.87      0.89      0.88      8702\n",
      "         21       0.87      0.90      0.89      1254\n",
      "         22       0.82      0.79      0.80      3235\n",
      "         23       0.83      0.83      0.83      1882\n",
      "         24       0.83      0.83      0.83      3258\n",
      "         25       0.89      0.84      0.86      1823\n",
      "\n",
      "avg / total       0.88      0.88      0.88    111735\n",
      "\n"
     ]
    }
   ],
   "source": [
    "print(metrics.classification_report(y_test, y_p, labels=label))"
   ]
  },
  {
   "cell_type": "code",
   "execution_count": 13,
   "metadata": {},
   "outputs": [
    {
     "name": "stdout",
     "output_type": "stream",
     "text": [
      "k = 1 , accuracy = 0.25919391214961873\n",
      "k = 2 , accuracy = 0.3400788597554427\n",
      "k = 3 , accuracy = 0.4819803924576934\n",
      "k = 4 , accuracy = 0.5691863943908314\n",
      "k = 5 , accuracy = 0.635987051044048\n",
      "k = 6 , accuracy = 0.7119777842556652\n",
      "k = 7 , accuracy = 0.7758633915831786\n",
      "k = 8 , accuracy = 0.8244986882278035\n",
      "k = 9 , accuracy = 0.8637291152058179\n",
      "k = 10 , accuracy = 0.8944138449500606\n",
      "k = 11 , accuracy = 0.918976971110327\n",
      "k = 12 , accuracy = 0.9355927522668344\n",
      "k = 13 , accuracy = 0.9492627993678946\n",
      "k = 14 , accuracy = 0.9584375335614231\n",
      "k = 15 , accuracy = 0.9633777750502462\n",
      "k = 16 , accuracy = 0.9680111692416269\n",
      "k = 17 , accuracy = 0.9694686939044784\n",
      "k = 18 , accuracy = 0.9715399131622148\n",
      "k = 19 , accuracy = 0.9719694993786342\n"
     ]
    }
   ],
   "source": [
    "#Random Forest Classifier\n",
    "#Escolhendo a melhor profundidade\n",
    "for k in range(1,20):\n",
    "    clf = RandomForestClassifier(n_estimators=100, max_depth=k, random_state=42)\n",
    "    clf.fit(X_train, y_train)  \n",
    "    y_pr = clf.predict(X_val)\n",
    "    print('k =', k, ', accuracy =', metrics.accuracy_score(y_val, y_pr))"
   ]
  },
  {
   "cell_type": "code",
   "execution_count": 14,
   "metadata": {},
   "outputs": [],
   "source": [
    "clf = RandomForestClassifier(n_estimators=100, max_depth=19, random_state=42)\n",
    "clf.fit(X_train, y_train)  \n",
    "\n",
    "y_pre = clf.predict(X_test)"
   ]
  },
  {
   "cell_type": "code",
   "execution_count": 17,
   "metadata": {},
   "outputs": [
    {
     "name": "stdout",
     "output_type": "stream",
     "text": [
      "Acurácia com RandomForestClassifier:  0.9732402559627691\n",
      "Precisão com RandomForestClassifier:  [0.94908586 0.98083832 0.97999716 0.96387233 0.97828027 0.99085366\n",
      " 0.9797048  0.96146435 1.         0.96872461 0.96644295 0.976\n",
      " 0.97350451 0.95055413 0.96902878 0.97212307 0.97702616 0.96640374\n",
      " 0.98504201 0.98368607 0.97401566 0.98473896 0.98256377 0.98096792\n",
      " 0.95945122 0.98922292]\n",
      "Recall com RandomForestClassifier:  [0.98558039 0.945      0.98362523 0.90394737 0.95804196 0.93123209\n",
      " 0.92134182 0.92193995 0.93154762 0.93602826 0.94229625 0.98273878\n",
      " 0.96298298 0.97755567 0.99561884 0.98569459 0.87786697 0.95331412\n",
      " 0.99284042 0.99184944 0.9864399  0.97767145 0.94064915 0.95855473\n",
      " 0.96593002 0.95666484]\n"
     ]
    }
   ],
   "source": [
    "acuracia = metrics.accuracy_score(y_test, y_pre)\n",
    "prec = metrics.precision_score(y_test, y_pre, labels=label, average=None)\n",
    "rec = metrics.recall_score(y_test, y_pre, labels=label, average=None)\n",
    "\n",
    "print(\"Acurácia com RandomForestClassifier: \", acuracia)\n",
    "print(\"Precisão com RandomForestClassifier: \", prec)\n",
    "print(\"Recall com RandomForestClassifier: \", rec)"
   ]
  },
  {
   "cell_type": "code",
   "execution_count": 18,
   "metadata": {},
   "outputs": [
    {
     "name": "stdout",
     "output_type": "stream",
     "text": [
      "             precision    recall  f1-score   support\n",
      "\n",
      "          0       0.95      0.99      0.97      4161\n",
      "          1       0.98      0.94      0.96      2600\n",
      "          2       0.98      0.98      0.98      7023\n",
      "          3       0.96      0.90      0.93      3040\n",
      "          4       0.98      0.96      0.97      3432\n",
      "          5       0.99      0.93      0.96       349\n",
      "          6       0.98      0.92      0.95      1729\n",
      "          7       0.96      0.92      0.94      2165\n",
      "          8       1.00      0.93      0.96       336\n",
      "          9       0.97      0.94      0.95      2548\n",
      "         10       0.97      0.94      0.95      1681\n",
      "         11       0.98      0.98      0.98      3476\n",
      "         12       0.97      0.96      0.97      3701\n",
      "         13       0.95      0.98      0.96      5703\n",
      "         14       0.97      1.00      0.98     17347\n",
      "         15       0.97      0.99      0.98      5802\n",
      "         16       0.98      0.88      0.92      1744\n",
      "         17       0.97      0.95      0.96      3470\n",
      "         18       0.99      0.99      0.99     14526\n",
      "         19       0.98      0.99      0.99      6748\n",
      "         20       0.97      0.99      0.98      8702\n",
      "         21       0.98      0.98      0.98      1254\n",
      "         22       0.98      0.94      0.96      3235\n",
      "         23       0.98      0.96      0.97      1882\n",
      "         24       0.96      0.97      0.96      3258\n",
      "         25       0.99      0.96      0.97      1823\n",
      "\n",
      "avg / total       0.97      0.97      0.97    111735\n",
      "\n"
     ]
    }
   ],
   "source": [
    "print(metrics.classification_report(y_test, y_pre, labels=label))"
   ]
  },
  {
   "cell_type": "code",
   "execution_count": null,
   "metadata": {},
   "outputs": [],
   "source": [
    "#!conda install -y pydot==1.2.3 "
   ]
  },
  {
   "cell_type": "code",
   "execution_count": null,
   "metadata": {},
   "outputs": [],
   "source": [
    "#!conda install -y graphviz"
   ]
  },
  {
   "cell_type": "code",
   "execution_count": 7,
   "metadata": {},
   "outputs": [],
   "source": [
    "#!conda update -n base -c defaults conda -y"
   ]
  },
  {
   "cell_type": "code",
   "execution_count": 8,
   "metadata": {},
   "outputs": [],
   "source": [
    "#!conda install -y keras"
   ]
  },
  {
   "cell_type": "code",
   "execution_count": 29,
   "metadata": {},
   "outputs": [],
   "source": [
    "#!pip install keras-metrics"
   ]
  },
  {
   "cell_type": "code",
   "execution_count": 67,
   "metadata": {},
   "outputs": [],
   "source": [
    "from keras.models import Sequential\n",
    "from keras.layers import Dense, Flatten, Dropout\n",
    "from keras.layers import Conv2D, MaxPooling2D\n",
    "from keras.layers.normalization import BatchNormalization\n",
    "from keras.callbacks import ModelCheckpoint\n",
    "from sklearn.metrics import precision_score, recall_score\n",
    "import keras"
   ]
  },
  {
   "cell_type": "markdown",
   "metadata": {},
   "source": [
    "### Multilayer Perceptron\n"
   ]
  },
  {
   "cell_type": "markdown",
   "metadata": {},
   "source": [
    "##### Criando o modelo"
   ]
  },
  {
   "cell_type": "code",
   "execution_count": 20,
   "metadata": {},
   "outputs": [],
   "source": [
    "model = Sequential()\n",
    "model.add(Dense(4, input_dim=784, init='uniform', activation='relu'))\n",
    "model.add(Dense(8, init='uniform', activation='relu'))\n",
    "model.add(Dense(10, init='uniform', activation='relu'))\n",
    "model.add(Dense(14, init='uniform', activation='relu'))\n",
    "model.add(Dense(17, init='uniform', activation='relu'))\n",
    "model.add(Dense(21, init='uniform', activation='relu'))\n",
    "model.add(Dense(26, init='uniform', activation='softmax'))"
   ]
  },
  {
   "cell_type": "code",
   "execution_count": 21,
   "metadata": {},
   "outputs": [
    {
     "name": "stdout",
     "output_type": "stream",
     "text": [
      "_________________________________________________________________\n",
      "Layer (type)                 Output Shape              Param #   \n",
      "=================================================================\n",
      "dense_1 (Dense)              (None, 4)                 3140      \n",
      "_________________________________________________________________\n",
      "dense_2 (Dense)              (None, 8)                 40        \n",
      "_________________________________________________________________\n",
      "dense_3 (Dense)              (None, 10)                90        \n",
      "_________________________________________________________________\n",
      "dense_4 (Dense)              (None, 14)                154       \n",
      "_________________________________________________________________\n",
      "dense_5 (Dense)              (None, 17)                255       \n",
      "_________________________________________________________________\n",
      "dense_6 (Dense)              (None, 21)                378       \n",
      "_________________________________________________________________\n",
      "dense_7 (Dense)              (None, 26)                572       \n",
      "=================================================================\n",
      "Total params: 4,629\n",
      "Trainable params: 4,629\n",
      "Non-trainable params: 0\n",
      "_________________________________________________________________\n"
     ]
    }
   ],
   "source": [
    "model.summary()"
   ]
  },
  {
   "cell_type": "markdown",
   "metadata": {},
   "source": [
    "##### Compilando o modelo"
   ]
  },
  {
   "cell_type": "code",
   "execution_count": 49,
   "metadata": {},
   "outputs": [],
   "source": [
    "model.compile(loss='sparse_categorical_crossentropy', optimizer='adam', metrics=['accuracy'])"
   ]
  },
  {
   "cell_type": "markdown",
   "metadata": {},
   "source": [
    "##### Fit do modelo"
   ]
  },
  {
   "cell_type": "code",
   "execution_count": 50,
   "metadata": {
    "codeCollapsed": false,
    "hiddenCell": true
   },
   "outputs": [
    {
     "name": "stdout",
     "output_type": "stream",
     "text": [
      "Train on 195536 samples, validate on 65179 samples\n",
      "Epoch 1/100\n",
      "195536/195536 [==============================] - 14s 71us/step - loss: 0.9732 - acc: 0.7060 - val_loss: 0.9741 - val_acc: 0.7130\n",
      "\n",
      "Epoch 00001: loss improved from inf to 0.97317, saving model to best_model.hdf5\n",
      "Epoch 2/100\n",
      "195536/195536 [==============================] - 13s 69us/step - loss: 0.9692 - acc: 0.7091 - val_loss: 0.9853 - val_acc: 0.7037\n",
      "\n",
      "Epoch 00002: loss improved from 0.97317 to 0.96924, saving model to best_model.hdf5\n",
      "Epoch 3/100\n",
      "195536/195536 [==============================] - 13s 65us/step - loss: 0.9604 - acc: 0.7123 - val_loss: 0.9725 - val_acc: 0.7120\n",
      "\n",
      "Epoch 00003: loss improved from 0.96924 to 0.96037, saving model to best_model.hdf5\n",
      "Epoch 4/100\n",
      "195536/195536 [==============================] - 13s 66us/step - loss: 0.9581 - acc: 0.7137 - val_loss: 0.9635 - val_acc: 0.7122\n",
      "\n",
      "Epoch 00004: loss improved from 0.96037 to 0.95813, saving model to best_model.hdf5\n",
      "Epoch 5/100\n",
      "195536/195536 [==============================] - 13s 66us/step - loss: 0.9533 - acc: 0.7150 - val_loss: 0.9587 - val_acc: 0.7141\n",
      "\n",
      "Epoch 00005: loss improved from 0.95813 to 0.95335, saving model to best_model.hdf5\n",
      "Epoch 6/100\n",
      "195536/195536 [==============================] - 13s 67us/step - loss: 0.9485 - acc: 0.7178 - val_loss: 0.9644 - val_acc: 0.7118\n",
      "\n",
      "Epoch 00006: loss improved from 0.95335 to 0.94849, saving model to best_model.hdf5\n",
      "Epoch 7/100\n",
      "195536/195536 [==============================] - 13s 67us/step - loss: 0.9465 - acc: 0.7177 - val_loss: 0.9595 - val_acc: 0.7147\n",
      "\n",
      "Epoch 00007: loss improved from 0.94849 to 0.94648, saving model to best_model.hdf5\n",
      "Epoch 8/100\n",
      "195536/195536 [==============================] - 13s 65us/step - loss: 0.9450 - acc: 0.7186 - val_loss: 0.9513 - val_acc: 0.7179\n",
      "\n",
      "Epoch 00008: loss improved from 0.94648 to 0.94503, saving model to best_model.hdf5\n",
      "Epoch 9/100\n",
      "195536/195536 [==============================] - 13s 65us/step - loss: 0.9415 - acc: 0.7205 - val_loss: 0.9607 - val_acc: 0.7166\n",
      "\n",
      "Epoch 00009: loss improved from 0.94503 to 0.94150, saving model to best_model.hdf5\n",
      "Epoch 10/100\n",
      "195536/195536 [==============================] - 13s 65us/step - loss: 0.9384 - acc: 0.7212 - val_loss: 0.9435 - val_acc: 0.7202\n",
      "\n",
      "Epoch 00010: loss improved from 0.94150 to 0.93843, saving model to best_model.hdf5\n",
      "Epoch 11/100\n",
      "195536/195536 [==============================] - 13s 65us/step - loss: 0.9364 - acc: 0.7223 - val_loss: 0.9503 - val_acc: 0.7175\n",
      "\n",
      "Epoch 00011: loss improved from 0.93843 to 0.93640, saving model to best_model.hdf5\n",
      "Epoch 12/100\n",
      "195536/195536 [==============================] - 13s 66us/step - loss: 0.9336 - acc: 0.7240 - val_loss: 0.9436 - val_acc: 0.7200\n",
      "\n",
      "Epoch 00012: loss improved from 0.93640 to 0.93359, saving model to best_model.hdf5\n",
      "Epoch 13/100\n",
      "195536/195536 [==============================] - 13s 66us/step - loss: 0.9312 - acc: 0.7247 - val_loss: 0.9474 - val_acc: 0.7199\n",
      "\n",
      "Epoch 00013: loss improved from 0.93359 to 0.93117, saving model to best_model.hdf5\n",
      "Epoch 14/100\n",
      "195536/195536 [==============================] - 13s 65us/step - loss: 0.9293 - acc: 0.7244 - val_loss: 0.9581 - val_acc: 0.7181\n",
      "\n",
      "Epoch 00014: loss improved from 0.93117 to 0.92929, saving model to best_model.hdf5\n",
      "Epoch 15/100\n",
      "195536/195536 [==============================] - 13s 64us/step - loss: 0.9246 - acc: 0.7266 - val_loss: 0.9539 - val_acc: 0.7184\n",
      "\n",
      "Epoch 00015: loss improved from 0.92929 to 0.92455, saving model to best_model.hdf5\n",
      "Epoch 16/100\n",
      "195536/195536 [==============================] - 13s 64us/step - loss: 0.9220 - acc: 0.7269 - val_loss: 0.9229 - val_acc: 0.7297\n",
      "\n",
      "Epoch 00016: loss improved from 0.92455 to 0.92197, saving model to best_model.hdf5\n",
      "Epoch 17/100\n",
      "195536/195536 [==============================] - 13s 64us/step - loss: 0.9184 - acc: 0.7289 - val_loss: 0.9179 - val_acc: 0.7283\n",
      "\n",
      "Epoch 00017: loss improved from 0.92197 to 0.91839, saving model to best_model.hdf5\n",
      "Epoch 18/100\n",
      "195536/195536 [==============================] - 13s 66us/step - loss: 0.9157 - acc: 0.7295 - val_loss: 0.9305 - val_acc: 0.7229\n",
      "\n",
      "Epoch 00018: loss improved from 0.91839 to 0.91567, saving model to best_model.hdf5\n",
      "Epoch 19/100\n",
      "195536/195536 [==============================] - 13s 65us/step - loss: 0.9123 - acc: 0.7305 - val_loss: 0.9259 - val_acc: 0.7254\n",
      "\n",
      "Epoch 00019: loss improved from 0.91567 to 0.91226, saving model to best_model.hdf5\n",
      "Epoch 20/100\n",
      "195536/195536 [==============================] - 13s 66us/step - loss: 0.9095 - acc: 0.7317 - val_loss: 0.9141 - val_acc: 0.7330\n",
      "\n",
      "Epoch 00020: loss improved from 0.91226 to 0.90948, saving model to best_model.hdf5\n",
      "Epoch 21/100\n",
      "195536/195536 [==============================] - 13s 65us/step - loss: 0.9065 - acc: 0.7329 - val_loss: 0.9288 - val_acc: 0.7279\n",
      "\n",
      "Epoch 00021: loss improved from 0.90948 to 0.90653, saving model to best_model.hdf5\n",
      "Epoch 22/100\n",
      "195536/195536 [==============================] - 13s 66us/step - loss: 0.9030 - acc: 0.7335 - val_loss: 0.9187 - val_acc: 0.7302\n",
      "\n",
      "Epoch 00022: loss improved from 0.90653 to 0.90304, saving model to best_model.hdf5\n",
      "Epoch 23/100\n",
      "195536/195536 [==============================] - 13s 66us/step - loss: 0.9016 - acc: 0.7338 - val_loss: 0.9074 - val_acc: 0.7314\n",
      "\n",
      "Epoch 00023: loss improved from 0.90304 to 0.90155, saving model to best_model.hdf5\n",
      "Epoch 24/100\n",
      "195536/195536 [==============================] - 13s 65us/step - loss: 0.8973 - acc: 0.7354 - val_loss: 0.9096 - val_acc: 0.7320\n",
      "\n",
      "Epoch 00024: loss improved from 0.90155 to 0.89731, saving model to best_model.hdf5\n",
      "Epoch 25/100\n",
      "195536/195536 [==============================] - 13s 66us/step - loss: 0.8962 - acc: 0.7348 - val_loss: 0.9122 - val_acc: 0.7303\n",
      "\n",
      "Epoch 00025: loss improved from 0.89731 to 0.89620, saving model to best_model.hdf5\n",
      "Epoch 26/100\n",
      "195536/195536 [==============================] - 13s 68us/step - loss: 0.8932 - acc: 0.7360 - val_loss: 0.9140 - val_acc: 0.7282\n",
      "\n",
      "Epoch 00026: loss improved from 0.89620 to 0.89320, saving model to best_model.hdf5\n",
      "Epoch 27/100\n",
      "195536/195536 [==============================] - 13s 65us/step - loss: 0.8906 - acc: 0.7358 - val_loss: 0.9022 - val_acc: 0.7344\n",
      "\n",
      "Epoch 00027: loss improved from 0.89320 to 0.89059, saving model to best_model.hdf5\n",
      "Epoch 28/100\n",
      "195536/195536 [==============================] - 13s 66us/step - loss: 0.8881 - acc: 0.7372 - val_loss: 0.9090 - val_acc: 0.7347\n",
      "\n",
      "Epoch 00028: loss improved from 0.89059 to 0.88807, saving model to best_model.hdf5\n",
      "Epoch 29/100\n",
      "195536/195536 [==============================] - 13s 65us/step - loss: 0.8851 - acc: 0.7381 - val_loss: 0.9036 - val_acc: 0.7341\n",
      "\n",
      "Epoch 00029: loss improved from 0.88807 to 0.88506, saving model to best_model.hdf5\n",
      "Epoch 30/100\n",
      "195536/195536 [==============================] - 13s 66us/step - loss: 0.8829 - acc: 0.7385 - val_loss: 0.8901 - val_acc: 0.7366\n",
      "\n",
      "Epoch 00030: loss improved from 0.88506 to 0.88288, saving model to best_model.hdf5\n",
      "Epoch 31/100\n",
      "195536/195536 [==============================] - 13s 67us/step - loss: 0.8810 - acc: 0.7391 - val_loss: 0.9099 - val_acc: 0.7325\n",
      "\n",
      "Epoch 00031: loss improved from 0.88288 to 0.88101, saving model to best_model.hdf5\n",
      "Epoch 32/100\n",
      "195536/195536 [==============================] - 13s 65us/step - loss: 0.8790 - acc: 0.7387 - val_loss: 0.8902 - val_acc: 0.7359\n",
      "\n",
      "Epoch 00032: loss improved from 0.88101 to 0.87901, saving model to best_model.hdf5\n",
      "Epoch 33/100\n",
      "195536/195536 [==============================] - 13s 65us/step - loss: 0.8757 - acc: 0.7403 - val_loss: 0.8886 - val_acc: 0.7357\n",
      "\n",
      "Epoch 00033: loss improved from 0.87901 to 0.87568, saving model to best_model.hdf5\n",
      "Epoch 34/100\n",
      "195536/195536 [==============================] - 13s 65us/step - loss: 0.8744 - acc: 0.7406 - val_loss: 0.8829 - val_acc: 0.7389\n",
      "\n",
      "Epoch 00034: loss improved from 0.87568 to 0.87442, saving model to best_model.hdf5\n",
      "Epoch 35/100\n",
      "195536/195536 [==============================] - 13s 66us/step - loss: 0.8739 - acc: 0.7404 - val_loss: 0.8833 - val_acc: 0.7389\n",
      "\n",
      "Epoch 00035: loss improved from 0.87442 to 0.87394, saving model to best_model.hdf5\n",
      "Epoch 36/100\n",
      "195536/195536 [==============================] - 13s 66us/step - loss: 0.8746 - acc: 0.7401 - val_loss: 0.8879 - val_acc: 0.7372\n",
      "\n",
      "Epoch 00036: loss did not improve\n",
      "Epoch 37/100\n",
      "195536/195536 [==============================] - 13s 65us/step - loss: 0.8716 - acc: 0.7410 - val_loss: 0.8837 - val_acc: 0.7383\n",
      "\n",
      "Epoch 00037: loss improved from 0.87394 to 0.87157, saving model to best_model.hdf5\n",
      "Epoch 38/100\n",
      "195536/195536 [==============================] - 13s 64us/step - loss: 0.8701 - acc: 0.7408 - val_loss: 0.8777 - val_acc: 0.7391\n",
      "\n",
      "Epoch 00038: loss improved from 0.87157 to 0.87007, saving model to best_model.hdf5\n",
      "Epoch 39/100\n",
      "195536/195536 [==============================] - 13s 64us/step - loss: 0.8693 - acc: 0.7411 - val_loss: 0.8740 - val_acc: 0.7386\n",
      "\n",
      "Epoch 00039: loss improved from 0.87007 to 0.86929, saving model to best_model.hdf5\n",
      "Epoch 40/100\n",
      "195536/195536 [==============================] - 13s 65us/step - loss: 0.8698 - acc: 0.7410 - val_loss: 0.8791 - val_acc: 0.7397\n",
      "\n",
      "Epoch 00040: loss did not improve\n",
      "Epoch 41/100\n",
      "195536/195536 [==============================] - 13s 65us/step - loss: 0.8681 - acc: 0.7416 - val_loss: 0.8842 - val_acc: 0.7389\n",
      "\n",
      "Epoch 00041: loss improved from 0.86929 to 0.86807, saving model to best_model.hdf5\n",
      "Epoch 42/100\n",
      "195536/195536 [==============================] - 13s 64us/step - loss: 0.8662 - acc: 0.7421 - val_loss: 0.8735 - val_acc: 0.7398\n",
      "\n",
      "Epoch 00042: loss improved from 0.86807 to 0.86624, saving model to best_model.hdf5\n",
      "Epoch 43/100\n",
      "195536/195536 [==============================] - 13s 65us/step - loss: 0.8661 - acc: 0.7425 - val_loss: 0.8837 - val_acc: 0.7373\n",
      "\n",
      "Epoch 00043: loss improved from 0.86624 to 0.86612, saving model to best_model.hdf5\n",
      "Epoch 44/100\n",
      "195536/195536 [==============================] - 13s 65us/step - loss: 0.8654 - acc: 0.7422 - val_loss: 0.9133 - val_acc: 0.7273\n",
      "\n",
      "Epoch 00044: loss improved from 0.86612 to 0.86539, saving model to best_model.hdf5\n",
      "Epoch 45/100\n",
      "195536/195536 [==============================] - 13s 67us/step - loss: 0.8648 - acc: 0.7422 - val_loss: 0.8751 - val_acc: 0.7393\n",
      "\n",
      "Epoch 00045: loss improved from 0.86539 to 0.86478, saving model to best_model.hdf5\n",
      "Epoch 46/100\n",
      "195536/195536 [==============================] - 13s 66us/step - loss: 0.8632 - acc: 0.7426 - val_loss: 0.8741 - val_acc: 0.7402\n",
      "\n",
      "Epoch 00046: loss improved from 0.86478 to 0.86321, saving model to best_model.hdf5\n",
      "Epoch 47/100\n",
      "195536/195536 [==============================] - 13s 66us/step - loss: 0.8638 - acc: 0.7426 - val_loss: 0.8824 - val_acc: 0.7378\n",
      "\n",
      "Epoch 00047: loss did not improve\n",
      "Epoch 48/100\n",
      "195536/195536 [==============================] - 13s 66us/step - loss: 0.8637 - acc: 0.7423 - val_loss: 0.8779 - val_acc: 0.7388\n",
      "\n",
      "Epoch 00048: loss did not improve\n",
      "Epoch 49/100\n",
      "195536/195536 [==============================] - 13s 68us/step - loss: 0.8616 - acc: 0.7433 - val_loss: 0.8903 - val_acc: 0.7364\n",
      "\n",
      "Epoch 00049: loss improved from 0.86321 to 0.86160, saving model to best_model.hdf5\n",
      "Epoch 50/100\n",
      "195536/195536 [==============================] - 13s 68us/step - loss: 0.8615 - acc: 0.7430 - val_loss: 0.8874 - val_acc: 0.7351\n",
      "\n",
      "Epoch 00050: loss improved from 0.86160 to 0.86151, saving model to best_model.hdf5\n",
      "Epoch 51/100\n",
      "195536/195536 [==============================] - 13s 67us/step - loss: 0.8609 - acc: 0.7431 - val_loss: 0.8740 - val_acc: 0.7385\n",
      "\n",
      "Epoch 00051: loss improved from 0.86151 to 0.86092, saving model to best_model.hdf5\n",
      "Epoch 52/100\n",
      "195536/195536 [==============================] - 13s 66us/step - loss: 0.8587 - acc: 0.7441 - val_loss: 0.8966 - val_acc: 0.7356\n",
      "\n",
      "Epoch 00052: loss improved from 0.86092 to 0.85869, saving model to best_model.hdf5\n",
      "Epoch 53/100\n",
      "195536/195536 [==============================] - 13s 66us/step - loss: 0.8595 - acc: 0.7438 - val_loss: 0.8710 - val_acc: 0.7410\n",
      "\n",
      "Epoch 00053: loss did not improve\n",
      "Epoch 54/100\n",
      "195536/195536 [==============================] - 13s 66us/step - loss: 0.8575 - acc: 0.7435 - val_loss: 0.8693 - val_acc: 0.7413\n",
      "\n",
      "Epoch 00054: loss improved from 0.85869 to 0.85748, saving model to best_model.hdf5\n",
      "Epoch 55/100\n",
      "195536/195536 [==============================] - 13s 69us/step - loss: 0.8571 - acc: 0.7442 - val_loss: 0.8758 - val_acc: 0.7391\n",
      "\n",
      "Epoch 00055: loss improved from 0.85748 to 0.85707, saving model to best_model.hdf5\n",
      "Epoch 56/100\n",
      "195536/195536 [==============================] - 13s 65us/step - loss: 0.8555 - acc: 0.7447 - val_loss: 0.8673 - val_acc: 0.7418\n",
      "\n",
      "Epoch 00056: loss improved from 0.85707 to 0.85546, saving model to best_model.hdf5\n",
      "Epoch 57/100\n",
      "195536/195536 [==============================] - 13s 66us/step - loss: 0.8571 - acc: 0.7438 - val_loss: 0.8667 - val_acc: 0.7420\n",
      "\n",
      "Epoch 00057: loss did not improve\n",
      "Epoch 58/100\n",
      "195536/195536 [==============================] - 13s 66us/step - loss: 0.8549 - acc: 0.7443 - val_loss: 0.8670 - val_acc: 0.7422\n",
      "\n",
      "Epoch 00058: loss improved from 0.85546 to 0.85489, saving model to best_model.hdf5\n",
      "Epoch 59/100\n",
      "195536/195536 [==============================] - 13s 64us/step - loss: 0.8560 - acc: 0.7447 - val_loss: 0.8629 - val_acc: 0.7420\n",
      "\n",
      "Epoch 00059: loss did not improve\n",
      "Epoch 60/100\n",
      "195536/195536 [==============================] - 13s 65us/step - loss: 0.8554 - acc: 0.7445 - val_loss: 0.8644 - val_acc: 0.7415\n",
      "\n",
      "Epoch 00060: loss did not improve\n",
      "Epoch 61/100\n",
      "195536/195536 [==============================] - 13s 65us/step - loss: 0.8540 - acc: 0.7442 - val_loss: 0.8586 - val_acc: 0.7433\n",
      "\n",
      "Epoch 00061: loss improved from 0.85489 to 0.85399, saving model to best_model.hdf5\n",
      "Epoch 62/100\n",
      "195536/195536 [==============================] - 13s 66us/step - loss: 0.8546 - acc: 0.7442 - val_loss: 0.8706 - val_acc: 0.7403\n",
      "\n",
      "Epoch 00062: loss did not improve\n",
      "Epoch 63/100\n",
      "195536/195536 [==============================] - 13s 65us/step - loss: 0.8548 - acc: 0.7447 - val_loss: 0.8556 - val_acc: 0.7436\n",
      "\n",
      "Epoch 00063: loss did not improve\n",
      "Epoch 64/100\n",
      "195536/195536 [==============================] - 13s 67us/step - loss: 0.8520 - acc: 0.7458 - val_loss: 0.8667 - val_acc: 0.7430\n",
      "\n",
      "Epoch 00064: loss improved from 0.85399 to 0.85204, saving model to best_model.hdf5\n",
      "Epoch 65/100\n",
      "195536/195536 [==============================] - 13s 68us/step - loss: 0.8518 - acc: 0.7448 - val_loss: 0.8655 - val_acc: 0.7417\n",
      "\n",
      "Epoch 00065: loss improved from 0.85204 to 0.85179, saving model to best_model.hdf5\n",
      "Epoch 66/100\n",
      "195536/195536 [==============================] - 13s 65us/step - loss: 0.8533 - acc: 0.7454 - val_loss: 0.8693 - val_acc: 0.7420\n",
      "\n",
      "Epoch 00066: loss did not improve\n",
      "Epoch 67/100\n",
      "195536/195536 [==============================] - 13s 66us/step - loss: 0.8518 - acc: 0.7457 - val_loss: 0.8614 - val_acc: 0.7443\n",
      "\n",
      "Epoch 00067: loss did not improve\n",
      "Epoch 68/100\n",
      "195536/195536 [==============================] - 13s 67us/step - loss: 0.8497 - acc: 0.7465 - val_loss: 0.8942 - val_acc: 0.7335\n",
      "\n",
      "Epoch 00068: loss improved from 0.85179 to 0.84973, saving model to best_model.hdf5\n",
      "Epoch 69/100\n",
      "195536/195536 [==============================] - 13s 65us/step - loss: 0.8504 - acc: 0.7455 - val_loss: 0.8604 - val_acc: 0.7449\n",
      "\n",
      "Epoch 00069: loss did not improve\n",
      "Epoch 70/100\n",
      "195536/195536 [==============================] - 13s 66us/step - loss: 0.8511 - acc: 0.7458 - val_loss: 0.8608 - val_acc: 0.7421\n",
      "\n",
      "Epoch 00070: loss did not improve\n",
      "Epoch 71/100\n",
      "195536/195536 [==============================] - 13s 68us/step - loss: 0.8502 - acc: 0.7457 - val_loss: 0.8545 - val_acc: 0.7455\n",
      "\n",
      "Epoch 00071: loss did not improve\n",
      "Epoch 72/100\n",
      "195536/195536 [==============================] - 13s 67us/step - loss: 0.8499 - acc: 0.7461 - val_loss: 0.8598 - val_acc: 0.7435\n",
      "\n",
      "Epoch 00072: loss did not improve\n",
      "Epoch 73/100\n",
      "195536/195536 [==============================] - 14s 70us/step - loss: 0.8473 - acc: 0.7470 - val_loss: 0.8621 - val_acc: 0.7436\n",
      "\n",
      "Epoch 00073: loss improved from 0.84973 to 0.84728, saving model to best_model.hdf5\n",
      "Epoch 74/100\n",
      "195536/195536 [==============================] - 13s 68us/step - loss: 0.8478 - acc: 0.7467 - val_loss: 0.8665 - val_acc: 0.7415\n",
      "\n",
      "Epoch 00074: loss did not improve\n",
      "Epoch 75/100\n",
      "195536/195536 [==============================] - 13s 67us/step - loss: 0.8479 - acc: 0.7466 - val_loss: 0.8597 - val_acc: 0.7445\n",
      "\n",
      "Epoch 00075: loss did not improve\n",
      "Epoch 76/100\n",
      "195536/195536 [==============================] - 13s 67us/step - loss: 0.8478 - acc: 0.7468 - val_loss: 0.8829 - val_acc: 0.7369\n",
      "\n",
      "Epoch 00076: loss did not improve\n",
      "Epoch 77/100\n"
     ]
    },
    {
     "name": "stdout",
     "output_type": "stream",
     "text": [
      "195536/195536 [==============================] - 13s 68us/step - loss: 0.8473 - acc: 0.7464 - val_loss: 0.8587 - val_acc: 0.7444\n",
      "\n",
      "Epoch 00077: loss did not improve\n",
      "Epoch 78/100\n",
      "195536/195536 [==============================] - 13s 68us/step - loss: 0.8472 - acc: 0.7460 - val_loss: 0.8563 - val_acc: 0.7461\n",
      "\n",
      "Epoch 00078: loss improved from 0.84728 to 0.84720, saving model to best_model.hdf5\n",
      "Epoch 79/100\n",
      "195536/195536 [==============================] - 13s 68us/step - loss: 0.8457 - acc: 0.7470 - val_loss: 0.8791 - val_acc: 0.7377\n",
      "\n",
      "Epoch 00079: loss improved from 0.84720 to 0.84571, saving model to best_model.hdf5\n",
      "Epoch 80/100\n",
      "195536/195536 [==============================] - 13s 65us/step - loss: 0.8453 - acc: 0.7476 - val_loss: 0.8807 - val_acc: 0.7384\n",
      "\n",
      "Epoch 00080: loss improved from 0.84571 to 0.84530, saving model to best_model.hdf5\n",
      "Epoch 81/100\n",
      "195536/195536 [==============================] - 13s 65us/step - loss: 0.8463 - acc: 0.7467 - val_loss: 0.8770 - val_acc: 0.7364\n",
      "\n",
      "Epoch 00081: loss did not improve\n",
      "Epoch 82/100\n",
      "195536/195536 [==============================] - 13s 64us/step - loss: 0.8447 - acc: 0.7475 - val_loss: 0.8575 - val_acc: 0.7433\n",
      "\n",
      "Epoch 00082: loss improved from 0.84530 to 0.84467, saving model to best_model.hdf5\n",
      "Epoch 83/100\n",
      "195536/195536 [==============================] - 13s 66us/step - loss: 0.8458 - acc: 0.7463 - val_loss: 0.8557 - val_acc: 0.7445\n",
      "\n",
      "Epoch 00083: loss did not improve\n",
      "Epoch 84/100\n",
      "195536/195536 [==============================] - 13s 65us/step - loss: 0.8443 - acc: 0.7469 - val_loss: 0.8612 - val_acc: 0.7428\n",
      "\n",
      "Epoch 00084: loss improved from 0.84467 to 0.84432, saving model to best_model.hdf5\n",
      "Epoch 85/100\n",
      "195536/195536 [==============================] - 13s 67us/step - loss: 0.8439 - acc: 0.7472 - val_loss: 0.8696 - val_acc: 0.7408\n",
      "\n",
      "Epoch 00085: loss improved from 0.84432 to 0.84395, saving model to best_model.hdf5\n",
      "Epoch 86/100\n",
      "195536/195536 [==============================] - 13s 68us/step - loss: 0.8436 - acc: 0.7478 - val_loss: 0.8584 - val_acc: 0.7452\n",
      "\n",
      "Epoch 00086: loss improved from 0.84395 to 0.84364, saving model to best_model.hdf5\n",
      "Epoch 87/100\n",
      "195536/195536 [==============================] - 13s 66us/step - loss: 0.8428 - acc: 0.7484 - val_loss: 0.8655 - val_acc: 0.7408\n",
      "\n",
      "Epoch 00087: loss improved from 0.84364 to 0.84276, saving model to best_model.hdf5\n",
      "Epoch 88/100\n",
      "195536/195536 [==============================] - 13s 65us/step - loss: 0.8435 - acc: 0.7472 - val_loss: 0.8668 - val_acc: 0.7422\n",
      "\n",
      "Epoch 00088: loss did not improve\n",
      "Epoch 89/100\n",
      "195536/195536 [==============================] - 13s 65us/step - loss: 0.8434 - acc: 0.7474 - val_loss: 0.8466 - val_acc: 0.7464\n",
      "\n",
      "Epoch 00089: loss did not improve\n",
      "Epoch 90/100\n",
      "195536/195536 [==============================] - 13s 66us/step - loss: 0.8423 - acc: 0.7478 - val_loss: 0.8727 - val_acc: 0.7393\n",
      "\n",
      "Epoch 00090: loss improved from 0.84276 to 0.84233, saving model to best_model.hdf5\n",
      "Epoch 91/100\n",
      "195536/195536 [==============================] - 13s 65us/step - loss: 0.8418 - acc: 0.7479 - val_loss: 0.8577 - val_acc: 0.7434\n",
      "\n",
      "Epoch 00091: loss improved from 0.84233 to 0.84176, saving model to best_model.hdf5\n",
      "Epoch 92/100\n",
      "195536/195536 [==============================] - 13s 66us/step - loss: 0.8411 - acc: 0.7480 - val_loss: 0.8575 - val_acc: 0.7446\n",
      "\n",
      "Epoch 00092: loss improved from 0.84176 to 0.84110, saving model to best_model.hdf5\n",
      "Epoch 93/100\n",
      "195536/195536 [==============================] - 13s 64us/step - loss: 0.8417 - acc: 0.7479 - val_loss: 0.8609 - val_acc: 0.7420\n",
      "\n",
      "Epoch 00093: loss did not improve\n",
      "Epoch 94/100\n",
      "195536/195536 [==============================] - 13s 66us/step - loss: 0.8411 - acc: 0.7473 - val_loss: 0.8636 - val_acc: 0.7427\n",
      "\n",
      "Epoch 00094: loss improved from 0.84110 to 0.84109, saving model to best_model.hdf5\n",
      "Epoch 95/100\n",
      "195536/195536 [==============================] - 13s 67us/step - loss: 0.8411 - acc: 0.7479 - val_loss: 0.8474 - val_acc: 0.7456\n",
      "\n",
      "Epoch 00095: loss did not improve\n",
      "Epoch 96/100\n",
      "195536/195536 [==============================] - 13s 69us/step - loss: 0.8392 - acc: 0.7487 - val_loss: 0.8479 - val_acc: 0.7461\n",
      "\n",
      "Epoch 00096: loss improved from 0.84109 to 0.83917, saving model to best_model.hdf5\n",
      "Epoch 97/100\n",
      "195536/195536 [==============================] - 13s 68us/step - loss: 0.8399 - acc: 0.7483 - val_loss: 0.8420 - val_acc: 0.7480\n",
      "\n",
      "Epoch 00097: loss did not improve\n",
      "Epoch 98/100\n",
      "195536/195536 [==============================] - 13s 65us/step - loss: 0.8393 - acc: 0.7488 - val_loss: 0.8514 - val_acc: 0.7443\n",
      "\n",
      "Epoch 00098: loss did not improve\n",
      "Epoch 99/100\n",
      "195536/195536 [==============================] - 13s 66us/step - loss: 0.8391 - acc: 0.7484 - val_loss: 0.8451 - val_acc: 0.7476\n",
      "\n",
      "Epoch 00099: loss improved from 0.83917 to 0.83906, saving model to best_model.hdf5\n",
      "Epoch 100/100\n",
      "195536/195536 [==============================] - 13s 65us/step - loss: 0.8379 - acc: 0.7487 - val_loss: 0.8471 - val_acc: 0.7481\n",
      "\n",
      "Epoch 00100: loss improved from 0.83906 to 0.83788, saving model to best_model.hdf5\n"
     ]
    }
   ],
   "source": [
    "checkpoint = ModelCheckpoint(\"best_model.hdf5\", monitor='loss', verbose=1,\n",
    "                             save_best_only=True, mode='auto', period=1)\n",
    "\n",
    "history = model.fit(X_train, y_train, nb_epoch=100, batch_size=180, verbose=1,\n",
    "                    validation_data=(X_val, y_val), callbacks=[checkpoint], shuffle=True)"
   ]
  },
  {
   "cell_type": "code",
   "execution_count": 51,
   "metadata": {},
   "outputs": [
    {
     "name": "stdout",
     "output_type": "stream",
     "text": [
      "dict_keys(['loss', 'val_loss', 'val_acc', 'acc'])\n"
     ]
    }
   ],
   "source": [
    "print(history.history.keys())"
   ]
  },
  {
   "cell_type": "markdown",
   "metadata": {},
   "source": [
    "##### Avaliando o modelo"
   ]
  },
  {
   "cell_type": "code",
   "execution_count": 52,
   "metadata": {},
   "outputs": [
    {
     "name": "stdout",
     "output_type": "stream",
     "text": [
      "111735/111735 [==============================] - 6s 50us/step\n",
      "acc: 75.00%\n"
     ]
    }
   ],
   "source": [
    "scores = model.evaluate(X_test, y_test)\n",
    "print(\"%s: %.2f%%\" % (model.metrics_names[1], scores[1]*100))"
   ]
  },
  {
   "cell_type": "code",
   "execution_count": 55,
   "metadata": {},
   "outputs": [],
   "source": [
    "y_ = model.predict(X_test)"
   ]
  },
  {
   "cell_type": "code",
   "execution_count": 65,
   "metadata": {},
   "outputs": [],
   "source": [
    "y_pred = np.argmax(y_,axis=1).reshape(-1,1)"
   ]
  },
  {
   "cell_type": "code",
   "execution_count": 66,
   "metadata": {},
   "outputs": [
    {
     "data": {
      "text/plain": [
       "(111735, 1)"
      ]
     },
     "execution_count": 66,
     "metadata": {},
     "output_type": "execute_result"
    }
   ],
   "source": [
    "y_pred.shape"
   ]
  },
  {
   "cell_type": "code",
   "execution_count": 69,
   "metadata": {},
   "outputs": [],
   "source": [
    "prec = precision_score(y_test, y_pred, average=None)\n",
    "rec = recall_score(y_test, y_pred, average=None)"
   ]
  },
  {
   "cell_type": "code",
   "execution_count": 73,
   "metadata": {},
   "outputs": [
    {
     "name": "stdout",
     "output_type": "stream",
     "text": [
      "Accuracy com MLP:  0.7499888128144376\n",
      "Precision com MLP:  [0.53525358 0.5062274  0.8517807  0.5827674  0.74095306 0.66321244\n",
      " 0.54656999 0.50038551 0.49418605 0.71946565 0.68192581 0.78205128\n",
      " 0.78524769 0.5636236  0.881662   0.83834252 0.38490566 0.59532967\n",
      " 0.91998288 0.89078698 0.6464476  0.46473029 0.63038549 0.74330709\n",
      " 0.6962536  0.72812683]\n",
      "Recall com MPL:  [0.72795001 0.48461538 0.82073188 0.45164474 0.6025641  0.36676218\n",
      " 0.56680162 0.29976905 0.25297619 0.44387755 0.51397977 0.89499425\n",
      " 0.77951905 0.70366474 0.92598144 0.81247846 0.05848624 0.62449568\n",
      " 0.88806278 0.90411974 0.83647437 0.53588517 0.42967543 0.75239107\n",
      " 0.74155924 0.68019748]\n"
     ]
    }
   ],
   "source": [
    "print(\"Accuracy com MLP: \", scores[1])\n",
    "print(\"Precision com MLP: \", prec)\n",
    "print(\"Recall com MPL: \", rec)"
   ]
  },
  {
   "cell_type": "code",
   "execution_count": 74,
   "metadata": {},
   "outputs": [
    {
     "name": "stdout",
     "output_type": "stream",
     "text": [
      "Média Precision com MLP:  0.6682273371612897\n",
      "Média Recall com MPL:  0.6192176001163072\n"
     ]
    }
   ],
   "source": [
    "print(\"Média Precision com MLP: \", np.mean(prec))\n",
    "print(\"Média Recall com MPL: \", np.mean(rec))"
   ]
  },
  {
   "cell_type": "markdown",
   "metadata": {},
   "source": [
    "##### Plotando gráficos"
   ]
  },
  {
   "cell_type": "code",
   "execution_count": 88,
   "metadata": {},
   "outputs": [
    {
     "data": {
      "image/png": "[encoded data removed]",
      "text/plain": [
       "<matplotlib.figure.Figure at 0x7fc78850bb38>"
      ]
     },
     "metadata": {},
     "output_type": "display_data"
    }
   ],
   "source": [
    "#Gráfico acurácia\n",
    "plt.plot(history.history['acc'])\n",
    "plt.plot(history.history['val_acc'])\n",
    "plt.title('model accuracy')\n",
    "plt.ylabel('accuracy')\n",
    "plt.xlabel('epoch')\n",
    "plt.legend(['train', 'val'], loc='upper left')\n",
    "plt.show()"
   ]
  },
  {
   "cell_type": "code",
   "execution_count": 89,
   "metadata": {},
   "outputs": [
    {
     "data": {
      "image/png": "[encoded data removed]",
      "text/plain": [
       "<matplotlib.figure.Figure at 0x7fc7884ed748>"
      ]
     },
     "metadata": {},
     "output_type": "display_data"
    }
   ],
   "source": [
    "#Gráfico loss\n",
    "plt.plot(history.history['loss'])\n",
    "plt.plot(history.history['val_loss'])\n",
    "plt.title('model loss')\n",
    "plt.ylabel('loss')\n",
    "plt.xlabel('epoch')\n",
    "plt.legend(['train', 'val'], loc='upper left')\n",
    "plt.show()"
   ]
  },
  {
   "cell_type": "code",
   "execution_count": null,
   "metadata": {},
   "outputs": [],
   "source": []
  },
  {
   "cell_type": "code",
   "execution_count": null,
   "metadata": {},
   "outputs": [],
   "source": []
  },
  {
   "cell_type": "markdown",
   "metadata": {},
   "source": [
    "### Convolutional Neural Network"
   ]
  },
  {
   "cell_type": "markdown",
   "metadata": {},
   "source": [
    "##### Criando o modelo"
   ]
  },
  {
   "cell_type": "code",
   "execution_count": 75,
   "metadata": {},
   "outputs": [],
   "source": [
    "#Instancia a rede\n",
    "cnn = Sequential()\n",
    "\n",
    "#Camada de convolução\n",
    "cnn.add(Conv2D(32, (5,5), input_shape=(28, 28, 1), activation = 'relu'))\n",
    "\n",
    "#Normaliza os feature\n",
    "cnn.add(BatchNormalization())\n",
    "\n",
    "#camada de pooling\n",
    "cnn.add(MaxPooling2D(pool_size = (2,2)))\n",
    "\n",
    "#Novas camadas de convolução e pooling\n",
    "cnn.add(Conv2D(32, (5,5), activation = 'relu'))\n",
    "cnn.add(BatchNormalization())\n",
    "cnn.add(MaxPooling2D(pool_size = (2,2)))\n",
    "\n",
    "#Camada de flattening\n",
    "cnn.add(Flatten())\n",
    "\n",
    "#Primeira camada oculta\n",
    "cnn.add(Dense(128, activation = 'relu'))\n",
    "cnn.add(Dropout(0.2))\n",
    "\n",
    "#Segunda camada oculta\n",
    "cnn.add(Dense(128, activation = 'relu'))\n",
    "cnn.add(Dropout(0.2))\n",
    "\n",
    "#Camada de saida\n",
    "cnn.add(Dense(26, activation = 'softmax'))"
   ]
  },
  {
   "cell_type": "code",
   "execution_count": 76,
   "metadata": {},
   "outputs": [],
   "source": [
    "#Reshape\n",
    "X_train = X_train.values.reshape(X_train.shape[0], 28, 28, 1).astype('float32')\n",
    "X_test = X_test.values.reshape(X_test.shape[0], 28, 28, 1).astype('float32')\n",
    "X_val = X_val.values.reshape(X_val.shape[0], 28, 28, 1).astype('float32')"
   ]
  },
  {
   "cell_type": "code",
   "execution_count": 77,
   "metadata": {},
   "outputs": [
    {
     "name": "stdout",
     "output_type": "stream",
     "text": [
      "_________________________________________________________________\n",
      "Layer (type)                 Output Shape              Param #   \n",
      "=================================================================\n",
      "conv2d_1 (Conv2D)            (None, 24, 24, 32)        832       \n",
      "_________________________________________________________________\n",
      "batch_normalization_1 (Batch (None, 24, 24, 32)        128       \n",
      "_________________________________________________________________\n",
      "max_pooling2d_1 (MaxPooling2 (None, 12, 12, 32)        0         \n",
      "_________________________________________________________________\n",
      "conv2d_2 (Conv2D)            (None, 8, 8, 32)          25632     \n",
      "_________________________________________________________________\n",
      "batch_normalization_2 (Batch (None, 8, 8, 32)          128       \n",
      "_________________________________________________________________\n",
      "max_pooling2d_2 (MaxPooling2 (None, 4, 4, 32)          0         \n",
      "_________________________________________________________________\n",
      "flatten_1 (Flatten)          (None, 512)               0         \n",
      "_________________________________________________________________\n",
      "dense_8 (Dense)              (None, 128)               65664     \n",
      "_________________________________________________________________\n",
      "dropout_1 (Dropout)          (None, 128)               0         \n",
      "_________________________________________________________________\n",
      "dense_9 (Dense)              (None, 128)               16512     \n",
      "_________________________________________________________________\n",
      "dropout_2 (Dropout)          (None, 128)               0         \n",
      "_________________________________________________________________\n",
      "dense_10 (Dense)             (None, 26)                3354      \n",
      "=================================================================\n",
      "Total params: 112,250\n",
      "Trainable params: 112,122\n",
      "Non-trainable params: 128\n",
      "_________________________________________________________________\n"
     ]
    }
   ],
   "source": [
    "cnn.summary()"
   ]
  },
  {
   "cell_type": "markdown",
   "metadata": {},
   "source": [
    "##### Compilando o modelo"
   ]
  },
  {
   "cell_type": "code",
   "execution_count": 78,
   "metadata": {},
   "outputs": [],
   "source": [
    "#Compila a rede\n",
    "cnn.compile(loss='sparse_categorical_crossentropy', optimizer='adam', metrics = ['accuracy'])"
   ]
  },
  {
   "cell_type": "markdown",
   "metadata": {},
   "source": [
    "##### Fit do modelo"
   ]
  },
  {
   "cell_type": "code",
   "execution_count": 79,
   "metadata": {},
   "outputs": [
    {
     "name": "stdout",
     "output_type": "stream",
     "text": [
      "Train on 195536 samples, validate on 65179 samples\n",
      "Epoch 1/4\n",
      "195536/195536 [==============================] - 695s 4ms/step - loss: 0.2269 - acc: 0.9360 - val_loss: 0.0736 - val_acc: 0.9790\n",
      "Epoch 2/4\n",
      "195536/195536 [==============================] - 694s 4ms/step - loss: 0.0816 - acc: 0.9773 - val_loss: 0.0716 - val_acc: 0.9794\n",
      "Epoch 3/4\n",
      "195536/195536 [==============================] - 693s 4ms/step - loss: 0.0656 - acc: 0.9819 - val_loss: 0.0550 - val_acc: 0.9846\n",
      "Epoch 4/4\n",
      "195536/195536 [==============================] - 684s 3ms/step - loss: 0.0532 - acc: 0.9851 - val_loss: 0.0477 - val_acc: 0.9866\n"
     ]
    }
   ],
   "source": [
    "hist = cnn.fit(X_train, y_train, epochs=4, batch_size=130,\n",
    "               validation_data=(X_val, y_val), verbose=1)"
   ]
  },
  {
   "cell_type": "markdown",
   "metadata": {},
   "source": [
    "##### Avaliando o modelo"
   ]
  },
  {
   "cell_type": "code",
   "execution_count": 80,
   "metadata": {},
   "outputs": [
    {
     "name": "stdout",
     "output_type": "stream",
     "text": [
      "111735/111735 [==============================] - 155s 1ms/step\n",
      "acc: 98.71%\n"
     ]
    }
   ],
   "source": [
    "resultado = cnn.evaluate(X_test, y_test)\n",
    "print(\"%s: %.2f%%\" % (cnn.metrics_names[1], resultado[1]*100))"
   ]
  },
  {
   "cell_type": "code",
   "execution_count": 82,
   "metadata": {},
   "outputs": [],
   "source": [
    "y_n = cnn.predict(X_test)"
   ]
  },
  {
   "cell_type": "code",
   "execution_count": 83,
   "metadata": {},
   "outputs": [
    {
     "data": {
      "text/plain": [
       "(111735, 26)"
      ]
     },
     "execution_count": 83,
     "metadata": {},
     "output_type": "execute_result"
    }
   ],
   "source": [
    "y_n.shape"
   ]
  },
  {
   "cell_type": "code",
   "execution_count": 84,
   "metadata": {},
   "outputs": [],
   "source": [
    "y_pred_n = np.argmax(y_n, axis=1).reshape(-1,1)"
   ]
  },
  {
   "cell_type": "code",
   "execution_count": 85,
   "metadata": {},
   "outputs": [],
   "source": [
    "prec_n = precision_score(y_test, y_pred_n, average=None)\n",
    "rec_n = recall_score(y_test, y_pred_n, average=None)"
   ]
  },
  {
   "cell_type": "code",
   "execution_count": 86,
   "metadata": {},
   "outputs": [
    {
     "name": "stdout",
     "output_type": "stream",
     "text": [
      "Accuracy com CNN:  0.9871392133172238\n",
      "Precision com CNN:  [0.98803828 0.9892017  0.99354376 0.93156733 0.98721302 0.97714286\n",
      " 0.98927294 0.95899054 0.97360704 0.971875   0.97178131 0.97342381\n",
      " 0.98870664 0.98717949 0.99482498 0.9944675  0.98707403 0.98333333\n",
      " 0.99655647 0.99129922 0.9911321  0.95402299 0.98840489 0.99291939\n",
      " 0.97977321 0.98095756]\n",
      "Recall com CNN:  [0.99254987 0.98653846 0.98604585 0.97171053 0.98980186 0.97994269\n",
      " 0.96009254 0.98290993 0.98809524 0.97645212 0.98334325 0.99050633\n",
      " 0.99351527 0.9856216  0.98628005 0.99138228 0.96330275 0.98616715\n",
      " 0.99614484 0.99614701 0.98896805 0.99282297 0.97496136 0.96865037\n",
      " 0.98127686 0.98902907]\n"
     ]
    }
   ],
   "source": [
    "print(\"Accuracy com CNN: \", resultado[1])\n",
    "print(\"Precision com CNN: \", prec_n)\n",
    "print(\"Recall com CNN: \", rec_n)"
   ]
  },
  {
   "cell_type": "code",
   "execution_count": 87,
   "metadata": {},
   "outputs": [
    {
     "name": "stdout",
     "output_type": "stream",
     "text": [
      "Média Precision com CNN:  0.9813965142601769\n",
      "Média Recall com CNN:  0.9839330114661965\n"
     ]
    }
   ],
   "source": [
    "print(\"Média Precision com CNN: \", np.mean(prec_n))\n",
    "print(\"Média Recall com CNN: \", np.mean(rec_n))"
   ]
  },
  {
   "cell_type": "markdown",
   "metadata": {},
   "source": [
    "##### Plotando gráficos"
   ]
  },
  {
   "cell_type": "code",
   "execution_count": 90,
   "metadata": {},
   "outputs": [
    {
     "data": {
      "image/png": "[encoded data removed]",
      "text/plain": [
       "<matplotlib.figure.Figure at 0x7fc775b25cf8>"
      ]
     },
     "metadata": {},
     "output_type": "display_data"
    }
   ],
   "source": [
    "#Gráfico acurácia\n",
    "plt.plot(hist.history['acc'])\n",
    "plt.plot(hist.history['val_acc'])\n",
    "plt.title('model accuracy')\n",
    "plt.ylabel('accuracy')\n",
    "plt.xlabel('epoch')\n",
    "plt.legend(['train', 'val'], loc='upper left')\n",
    "plt.show()"
   ]
  },
  {
   "cell_type": "code",
   "execution_count": 91,
   "metadata": {},
   "outputs": [
    {
     "data": {
      "image/png": "[encoded data removed]",
      "text/plain": [
       "<matplotlib.figure.Figure at 0x7fc775ae3da0>"
      ]
     },
     "metadata": {},
     "output_type": "display_data"
    }
   ],
   "source": [
    "#Gráfico loss\n",
    "plt.plot(hist.history['loss'])\n",
    "plt.plot(hist.history['val_loss'])\n",
    "plt.title('model loss')\n",
    "plt.ylabel('loss')\n",
    "plt.xlabel('epoch')\n",
    "plt.legend(['train', 'val'], loc='upper left')\n",
    "plt.show()"
   ]
  },
  {
   "cell_type": "code",
   "execution_count": null,
   "metadata": {},
   "outputs": [],
   "source": [
    "\n"
   ]
  },
  {
   "cell_type": "markdown",
   "metadata": {},
   "source": [
    "### Resultados"
   ]
  },
  {
   "cell_type": "markdown",
   "metadata": {},
   "source": [
    "#### Decision Tree Classifier \n",
    "Acurácia com DecisionTreeClassifier:  0.9070389761489238\n",
    "\n",
    "Precisão com DecisionTreeClassifier: 0.91 (média total)\n",
    " \n",
    "Recall com DecisionTreeClassifier: 0.91 (média total)\n",
    " \n",
    "#### Logistic Regression\n",
    "Acurácia com LogisticRegression:  0.8771557703494877\n",
    "\n",
    "Precisão com LogisticRegression: 0.88 (média total)\n",
    "\n",
    "Recall com LogisticRegression: 0.88 (média total)\n",
    "\n",
    "#### Random Forest Classifier\n",
    "Acurácia com RandomForestClassifier:  0.9732402559627691\n",
    "\n",
    "Precisão com RandomForestClassifier: 0.97 (média total)\n",
    "\n",
    "Recall com RandomForestClassifier: 0.97 (média total)\n",
    "\n",
    "#### Multilayer Perceptron\n",
    "Acurácia com MLP: 0.7499888128144376\n",
    "\n",
    "Precisão com MLP:  0.6682273371612897 (média total)\n",
    "\n",
    "Recall com MPL:  0.6192176001163072 (média total)\n",
    "\n",
    "#### Convolutional Neural Network\n",
    "Acurácia com CNN: 0.9871392133172238\n",
    "\n",
    "Precisão com CNN:  0.9813965142601769 (média total)\n",
    "\n",
    "Recall com CNN:  0.9839330114661965 (média total)"
   ]
  },
  {
   "cell_type": "code",
   "execution_count": null,
   "metadata": {},
   "outputs": [],
   "source": []
  }
 ],
 "metadata": {
  "colab": {
   "collapsed_sections": [],
   "name": "Alfabeto1.ipynb",
   "provenance": []
  },
  "kernelspec": {
   "display_name": "Python 3",
   "language": "python",
   "name": "python3"
  },
  "language_info": {
   "codemirror_mode": {
    "name": "ipython",
    "version": 3
   },
   "file_extension": ".py",
   "mimetype": "text/x-python",
   "name": "python",
   "nbconvert_exporter": "python",
   "pygments_lexer": "ipython3",
   "version": "3.5.6"
  }
 },
 "nbformat": 4,
 "nbformat_minor": 1
}
